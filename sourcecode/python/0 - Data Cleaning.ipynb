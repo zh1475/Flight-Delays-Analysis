{
 "cells": [
  {
   "cell_type": "markdown",
   "id": "291d4baf",
   "metadata": {},
   "source": [
    "## Importing datasets and libraries"
   ]
  },
  {
   "cell_type": "code",
   "execution_count": 2,
   "id": "6cd48255",
   "metadata": {},
   "outputs": [
    {
     "data": {
      "text/html": [
       "<div>\n",
       "<style scoped>\n",
       "    .dataframe tbody tr th:only-of-type {\n",
       "        vertical-align: middle;\n",
       "    }\n",
       "\n",
       "    .dataframe tbody tr th {\n",
       "        vertical-align: top;\n",
       "    }\n",
       "\n",
       "    .dataframe thead th {\n",
       "        text-align: right;\n",
       "    }\n",
       "</style>\n",
       "<table border=\"1\" class=\"dataframe\">\n",
       "  <thead>\n",
       "    <tr style=\"text-align: right;\">\n",
       "      <th></th>\n",
       "      <th>Year</th>\n",
       "      <th>Month</th>\n",
       "      <th>DayofMonth</th>\n",
       "      <th>DayOfWeek</th>\n",
       "      <th>DepTime</th>\n",
       "      <th>CRSDepTime</th>\n",
       "      <th>ArrTime</th>\n",
       "      <th>CRSArrTime</th>\n",
       "      <th>UniqueCarrier</th>\n",
       "      <th>FlightNum</th>\n",
       "      <th>...</th>\n",
       "      <th>TaxiIn</th>\n",
       "      <th>TaxiOut</th>\n",
       "      <th>Cancelled</th>\n",
       "      <th>CancellationCode</th>\n",
       "      <th>Diverted</th>\n",
       "      <th>CarrierDelay</th>\n",
       "      <th>WeatherDelay</th>\n",
       "      <th>NASDelay</th>\n",
       "      <th>SecurityDelay</th>\n",
       "      <th>LateAircraftDelay</th>\n",
       "    </tr>\n",
       "  </thead>\n",
       "  <tbody>\n",
       "    <tr>\n",
       "      <th>0</th>\n",
       "      <td>2006</td>\n",
       "      <td>1</td>\n",
       "      <td>11</td>\n",
       "      <td>3</td>\n",
       "      <td>743.0</td>\n",
       "      <td>745</td>\n",
       "      <td>1024.0</td>\n",
       "      <td>1018</td>\n",
       "      <td>US</td>\n",
       "      <td>343</td>\n",
       "      <td>...</td>\n",
       "      <td>45</td>\n",
       "      <td>13</td>\n",
       "      <td>0</td>\n",
       "      <td>NaN</td>\n",
       "      <td>0</td>\n",
       "      <td>0</td>\n",
       "      <td>0</td>\n",
       "      <td>0</td>\n",
       "      <td>0</td>\n",
       "      <td>0</td>\n",
       "    </tr>\n",
       "    <tr>\n",
       "      <th>1</th>\n",
       "      <td>2006</td>\n",
       "      <td>1</td>\n",
       "      <td>11</td>\n",
       "      <td>3</td>\n",
       "      <td>1053.0</td>\n",
       "      <td>1053</td>\n",
       "      <td>1313.0</td>\n",
       "      <td>1318</td>\n",
       "      <td>US</td>\n",
       "      <td>613</td>\n",
       "      <td>...</td>\n",
       "      <td>27</td>\n",
       "      <td>19</td>\n",
       "      <td>0</td>\n",
       "      <td>NaN</td>\n",
       "      <td>0</td>\n",
       "      <td>0</td>\n",
       "      <td>0</td>\n",
       "      <td>0</td>\n",
       "      <td>0</td>\n",
       "      <td>0</td>\n",
       "    </tr>\n",
       "    <tr>\n",
       "      <th>2</th>\n",
       "      <td>2006</td>\n",
       "      <td>1</td>\n",
       "      <td>11</td>\n",
       "      <td>3</td>\n",
       "      <td>1915.0</td>\n",
       "      <td>1915</td>\n",
       "      <td>2110.0</td>\n",
       "      <td>2133</td>\n",
       "      <td>US</td>\n",
       "      <td>617</td>\n",
       "      <td>...</td>\n",
       "      <td>4</td>\n",
       "      <td>11</td>\n",
       "      <td>0</td>\n",
       "      <td>NaN</td>\n",
       "      <td>0</td>\n",
       "      <td>0</td>\n",
       "      <td>0</td>\n",
       "      <td>0</td>\n",
       "      <td>0</td>\n",
       "      <td>0</td>\n",
       "    </tr>\n",
       "    <tr>\n",
       "      <th>3</th>\n",
       "      <td>2006</td>\n",
       "      <td>1</td>\n",
       "      <td>11</td>\n",
       "      <td>3</td>\n",
       "      <td>1753.0</td>\n",
       "      <td>1755</td>\n",
       "      <td>1925.0</td>\n",
       "      <td>1933</td>\n",
       "      <td>US</td>\n",
       "      <td>300</td>\n",
       "      <td>...</td>\n",
       "      <td>16</td>\n",
       "      <td>10</td>\n",
       "      <td>0</td>\n",
       "      <td>NaN</td>\n",
       "      <td>0</td>\n",
       "      <td>0</td>\n",
       "      <td>0</td>\n",
       "      <td>0</td>\n",
       "      <td>0</td>\n",
       "      <td>0</td>\n",
       "    </tr>\n",
       "    <tr>\n",
       "      <th>4</th>\n",
       "      <td>2006</td>\n",
       "      <td>1</td>\n",
       "      <td>11</td>\n",
       "      <td>3</td>\n",
       "      <td>824.0</td>\n",
       "      <td>832</td>\n",
       "      <td>1015.0</td>\n",
       "      <td>1015</td>\n",
       "      <td>US</td>\n",
       "      <td>765</td>\n",
       "      <td>...</td>\n",
       "      <td>27</td>\n",
       "      <td>12</td>\n",
       "      <td>0</td>\n",
       "      <td>NaN</td>\n",
       "      <td>0</td>\n",
       "      <td>0</td>\n",
       "      <td>0</td>\n",
       "      <td>0</td>\n",
       "      <td>0</td>\n",
       "      <td>0</td>\n",
       "    </tr>\n",
       "    <tr>\n",
       "      <th>...</th>\n",
       "      <td>...</td>\n",
       "      <td>...</td>\n",
       "      <td>...</td>\n",
       "      <td>...</td>\n",
       "      <td>...</td>\n",
       "      <td>...</td>\n",
       "      <td>...</td>\n",
       "      <td>...</td>\n",
       "      <td>...</td>\n",
       "      <td>...</td>\n",
       "      <td>...</td>\n",
       "      <td>...</td>\n",
       "      <td>...</td>\n",
       "      <td>...</td>\n",
       "      <td>...</td>\n",
       "      <td>...</td>\n",
       "      <td>...</td>\n",
       "      <td>...</td>\n",
       "      <td>...</td>\n",
       "      <td>...</td>\n",
       "      <td>...</td>\n",
       "    </tr>\n",
       "    <tr>\n",
       "      <th>7453210</th>\n",
       "      <td>2007</td>\n",
       "      <td>12</td>\n",
       "      <td>15</td>\n",
       "      <td>6</td>\n",
       "      <td>1558.0</td>\n",
       "      <td>1605</td>\n",
       "      <td>1749.0</td>\n",
       "      <td>1736</td>\n",
       "      <td>DL</td>\n",
       "      <td>58</td>\n",
       "      <td>...</td>\n",
       "      <td>14</td>\n",
       "      <td>17</td>\n",
       "      <td>0</td>\n",
       "      <td>NaN</td>\n",
       "      <td>0</td>\n",
       "      <td>0</td>\n",
       "      <td>0</td>\n",
       "      <td>0</td>\n",
       "      <td>0</td>\n",
       "      <td>0</td>\n",
       "    </tr>\n",
       "    <tr>\n",
       "      <th>7453211</th>\n",
       "      <td>2007</td>\n",
       "      <td>12</td>\n",
       "      <td>15</td>\n",
       "      <td>6</td>\n",
       "      <td>1902.0</td>\n",
       "      <td>1851</td>\n",
       "      <td>2110.0</td>\n",
       "      <td>2105</td>\n",
       "      <td>DL</td>\n",
       "      <td>59</td>\n",
       "      <td>...</td>\n",
       "      <td>6</td>\n",
       "      <td>21</td>\n",
       "      <td>0</td>\n",
       "      <td>NaN</td>\n",
       "      <td>0</td>\n",
       "      <td>0</td>\n",
       "      <td>0</td>\n",
       "      <td>0</td>\n",
       "      <td>0</td>\n",
       "      <td>0</td>\n",
       "    </tr>\n",
       "    <tr>\n",
       "      <th>7453212</th>\n",
       "      <td>2007</td>\n",
       "      <td>12</td>\n",
       "      <td>15</td>\n",
       "      <td>6</td>\n",
       "      <td>1024.0</td>\n",
       "      <td>1025</td>\n",
       "      <td>1750.0</td>\n",
       "      <td>1735</td>\n",
       "      <td>DL</td>\n",
       "      <td>61</td>\n",
       "      <td>...</td>\n",
       "      <td>14</td>\n",
       "      <td>19</td>\n",
       "      <td>0</td>\n",
       "      <td>NaN</td>\n",
       "      <td>0</td>\n",
       "      <td>0</td>\n",
       "      <td>0</td>\n",
       "      <td>15</td>\n",
       "      <td>0</td>\n",
       "      <td>0</td>\n",
       "    </tr>\n",
       "    <tr>\n",
       "      <th>7453213</th>\n",
       "      <td>2007</td>\n",
       "      <td>12</td>\n",
       "      <td>15</td>\n",
       "      <td>6</td>\n",
       "      <td>1353.0</td>\n",
       "      <td>1315</td>\n",
       "      <td>1658.0</td>\n",
       "      <td>1622</td>\n",
       "      <td>DL</td>\n",
       "      <td>62</td>\n",
       "      <td>...</td>\n",
       "      <td>11</td>\n",
       "      <td>14</td>\n",
       "      <td>0</td>\n",
       "      <td>NaN</td>\n",
       "      <td>0</td>\n",
       "      <td>0</td>\n",
       "      <td>0</td>\n",
       "      <td>0</td>\n",
       "      <td>0</td>\n",
       "      <td>36</td>\n",
       "    </tr>\n",
       "    <tr>\n",
       "      <th>7453214</th>\n",
       "      <td>2007</td>\n",
       "      <td>12</td>\n",
       "      <td>15</td>\n",
       "      <td>6</td>\n",
       "      <td>1824.0</td>\n",
       "      <td>1800</td>\n",
       "      <td>2001.0</td>\n",
       "      <td>1928</td>\n",
       "      <td>DL</td>\n",
       "      <td>63</td>\n",
       "      <td>...</td>\n",
       "      <td>10</td>\n",
       "      <td>26</td>\n",
       "      <td>0</td>\n",
       "      <td>NaN</td>\n",
       "      <td>0</td>\n",
       "      <td>24</td>\n",
       "      <td>0</td>\n",
       "      <td>9</td>\n",
       "      <td>0</td>\n",
       "      <td>0</td>\n",
       "    </tr>\n",
       "  </tbody>\n",
       "</table>\n",
       "<p>14595137 rows × 29 columns</p>\n",
       "</div>"
      ],
      "text/plain": [
       "         Year  Month  DayofMonth  DayOfWeek  DepTime  CRSDepTime  ArrTime  \\\n",
       "0        2006      1          11          3    743.0         745   1024.0   \n",
       "1        2006      1          11          3   1053.0        1053   1313.0   \n",
       "2        2006      1          11          3   1915.0        1915   2110.0   \n",
       "3        2006      1          11          3   1753.0        1755   1925.0   \n",
       "4        2006      1          11          3    824.0         832   1015.0   \n",
       "...       ...    ...         ...        ...      ...         ...      ...   \n",
       "7453210  2007     12          15          6   1558.0        1605   1749.0   \n",
       "7453211  2007     12          15          6   1902.0        1851   2110.0   \n",
       "7453212  2007     12          15          6   1024.0        1025   1750.0   \n",
       "7453213  2007     12          15          6   1353.0        1315   1658.0   \n",
       "7453214  2007     12          15          6   1824.0        1800   2001.0   \n",
       "\n",
       "         CRSArrTime UniqueCarrier  FlightNum  ... TaxiIn  TaxiOut  Cancelled  \\\n",
       "0              1018            US        343  ...     45       13          0   \n",
       "1              1318            US        613  ...     27       19          0   \n",
       "2              2133            US        617  ...      4       11          0   \n",
       "3              1933            US        300  ...     16       10          0   \n",
       "4              1015            US        765  ...     27       12          0   \n",
       "...             ...           ...        ...  ...    ...      ...        ...   \n",
       "7453210        1736            DL         58  ...     14       17          0   \n",
       "7453211        2105            DL         59  ...      6       21          0   \n",
       "7453212        1735            DL         61  ...     14       19          0   \n",
       "7453213        1622            DL         62  ...     11       14          0   \n",
       "7453214        1928            DL         63  ...     10       26          0   \n",
       "\n",
       "         CancellationCode  Diverted  CarrierDelay WeatherDelay NASDelay  \\\n",
       "0                     NaN         0             0            0        0   \n",
       "1                     NaN         0             0            0        0   \n",
       "2                     NaN         0             0            0        0   \n",
       "3                     NaN         0             0            0        0   \n",
       "4                     NaN         0             0            0        0   \n",
       "...                   ...       ...           ...          ...      ...   \n",
       "7453210               NaN         0             0            0        0   \n",
       "7453211               NaN         0             0            0        0   \n",
       "7453212               NaN         0             0            0       15   \n",
       "7453213               NaN         0             0            0        0   \n",
       "7453214               NaN         0            24            0        9   \n",
       "\n",
       "         SecurityDelay  LateAircraftDelay  \n",
       "0                    0                  0  \n",
       "1                    0                  0  \n",
       "2                    0                  0  \n",
       "3                    0                  0  \n",
       "4                    0                  0  \n",
       "...                ...                ...  \n",
       "7453210              0                  0  \n",
       "7453211              0                  0  \n",
       "7453212              0                  0  \n",
       "7453213              0                 36  \n",
       "7453214              0                  0  \n",
       "\n",
       "[14595137 rows x 29 columns]"
      ]
     },
     "execution_count": 2,
     "metadata": {},
     "output_type": "execute_result"
    }
   ],
   "source": [
    "import numpy as np\n",
    "import pandas as pd\n",
    "import warnings\n",
    "warnings.filterwarnings('ignore')\n",
    "\n",
    "y6 = pd.read_csv(r'..\\datasets\\2006.csv') # Imporitng 2006 data\n",
    "y7 = pd.read_csv(r'..\\datasets\\2007.csv') # Importing 2007 data\n",
    "\n",
    "full_set = pd.concat([y6, y7])  # Combining flight data of both years together, 2006 on top of 2007\n",
    "full_set"
   ]
  },
  {
   "cell_type": "code",
   "execution_count": 3,
   "id": "626fac13",
   "metadata": {},
   "outputs": [],
   "source": [
    "# Importing datasets of airports, carriers and planes\n",
    "\n",
    "airports = pd.read_csv(r'..\\datasets\\airports.csv')\n",
    "carriers = pd.read_csv(r'..\\datasets\\carriers.csv')\n",
    "planedata = pd.read_csv(r'..\\datasets\\plane-data.csv')"
   ]
  },
  {
   "cell_type": "markdown",
   "id": "107c2bf0",
   "metadata": {},
   "source": [
    "## Cleaning the data"
   ]
  },
  {
   "cell_type": "code",
   "execution_count": 4,
   "id": "d614a809",
   "metadata": {},
   "outputs": [
    {
     "data": {
      "text/plain": [
       "Year                        0\n",
       "Month                       0\n",
       "DayofMonth                  0\n",
       "DayOfWeek                   0\n",
       "DepTime                282682\n",
       "CRSDepTime                  0\n",
       "ArrTime                316047\n",
       "CRSArrTime                  0\n",
       "UniqueCarrier               0\n",
       "FlightNum                   0\n",
       "TailNum                    22\n",
       "ActualElapsedTime      316047\n",
       "CRSElapsedTime            998\n",
       "AirTime                316047\n",
       "ArrDelay               316047\n",
       "DepDelay               282682\n",
       "Origin                      0\n",
       "Dest                        0\n",
       "Distance                    0\n",
       "TaxiIn                      0\n",
       "TaxiOut                     0\n",
       "Cancelled                   0\n",
       "CancellationCode     14312454\n",
       "Diverted                    0\n",
       "CarrierDelay                0\n",
       "WeatherDelay                0\n",
       "NASDelay                    0\n",
       "SecurityDelay               0\n",
       "LateAircraftDelay           0\n",
       "dtype: int64"
      ]
     },
     "execution_count": 4,
     "metadata": {},
     "output_type": "execute_result"
    }
   ],
   "source": [
    "pd.isnull(full_set).sum(axis=0) # Looking for NA values in flight dataset"
   ]
  },
  {
   "cell_type": "code",
   "execution_count": 18,
   "id": "ff4521db",
   "metadata": {
    "scrolled": true
   },
   "outputs": [
    {
     "data": {
      "text/plain": [
       "Year                        0\n",
       "Month                       0\n",
       "DayofMonth                  0\n",
       "DayOfWeek                   0\n",
       "DepTime                     0\n",
       "CRSDepTime                  0\n",
       "ArrTime                     0\n",
       "CRSArrTime                  0\n",
       "UniqueCarrier               0\n",
       "FlightNum                   0\n",
       "TailNum                     0\n",
       "ActualElapsedTime           0\n",
       "CRSElapsedTime              0\n",
       "AirTime                     0\n",
       "ArrDelay                    0\n",
       "DepDelay                    0\n",
       "Origin                      0\n",
       "Dest                        0\n",
       "Distance                    0\n",
       "TaxiIn                      0\n",
       "TaxiOut                     0\n",
       "Cancelled                   0\n",
       "CancellationCode     14279089\n",
       "Diverted                    0\n",
       "CarrierDelay                0\n",
       "WeatherDelay                0\n",
       "NASDelay                    0\n",
       "SecurityDelay               0\n",
       "LateAircraftDelay           0\n",
       "dtype: int64"
      ]
     },
     "execution_count": 18,
     "metadata": {},
     "output_type": "execute_result"
    }
   ],
   "source": [
    "# Removing NA values in \"ArrTime\" column\n",
    "\n",
    "fullset1 = full_set.dropna(axis=0, subset= [\"ArrTime\"], how='any') \n",
    "pd.isnull(fullset1).sum(axis=0)"
   ]
  },
  {
   "cell_type": "code",
   "execution_count": 20,
   "id": "2359e72e",
   "metadata": {},
   "outputs": [],
   "source": [
    "fullset1 = fullset1.dropna(axis=1, how='any') # Removing columns with any null values"
   ]
  },
  {
   "cell_type": "code",
   "execution_count": 17,
   "id": "82d2f26d",
   "metadata": {},
   "outputs": [
    {
     "data": {
      "text/plain": [
       "Year                 0\n",
       "Month                0\n",
       "DayofMonth           0\n",
       "DayOfWeek            0\n",
       "CRSDepTime           0\n",
       "CRSArrTime           0\n",
       "UniqueCarrier        0\n",
       "FlightNum            0\n",
       "Origin               0\n",
       "Dest                 0\n",
       "Distance             0\n",
       "TaxiIn               0\n",
       "TaxiOut              0\n",
       "Cancelled            0\n",
       "Diverted             0\n",
       "CarrierDelay         0\n",
       "WeatherDelay         0\n",
       "NASDelay             0\n",
       "SecurityDelay        0\n",
       "LateAircraftDelay    0\n",
       "dtype: int64"
      ]
     },
     "execution_count": 17,
     "metadata": {},
     "output_type": "execute_result"
    }
   ],
   "source": [
    "# Confirming all null values are removed\n",
    "\n",
    "pd.isnull(fullset1).sum(axis=0)"
   ]
  },
  {
   "cell_type": "code",
   "execution_count": 27,
   "id": "085b2847",
   "metadata": {},
   "outputs": [
    {
     "data": {
      "text/plain": [
       "iata        0\n",
       "airport     0\n",
       "city       12\n",
       "state      12\n",
       "country     0\n",
       "lat         0\n",
       "long        0\n",
       "dtype: int64"
      ]
     },
     "execution_count": 27,
     "metadata": {},
     "output_type": "execute_result"
    }
   ],
   "source": [
    "# Repeating process for other datasets\n",
    "\n",
    "pd.isnull(airports).sum(axis=0)"
   ]
  },
  {
   "cell_type": "code",
   "execution_count": 33,
   "id": "43e9796b",
   "metadata": {},
   "outputs": [
    {
     "data": {
      "text/plain": [
       "iata       0\n",
       "airport    0\n",
       "city       0\n",
       "state      0\n",
       "country    0\n",
       "lat        0\n",
       "long       0\n",
       "dtype: int64"
      ]
     },
     "execution_count": 33,
     "metadata": {},
     "output_type": "execute_result"
    }
   ],
   "source": [
    "airports1 = airports.dropna(axis=0, how='any')\n",
    "pd.isnull(airports1).sum(axis=0)"
   ]
  },
  {
   "cell_type": "code",
   "execution_count": 31,
   "id": "1b817deb",
   "metadata": {},
   "outputs": [
    {
     "data": {
      "text/plain": [
       "Code           1\n",
       "Description    0\n",
       "dtype: int64"
      ]
     },
     "execution_count": 31,
     "metadata": {},
     "output_type": "execute_result"
    }
   ],
   "source": [
    "pd.isnull(carriers).sum(axis=0)"
   ]
  },
  {
   "cell_type": "code",
   "execution_count": 4,
   "id": "b05d5c08",
   "metadata": {},
   "outputs": [
    {
     "data": {
      "text/plain": [
       "Code           0\n",
       "Description    0\n",
       "dtype: int64"
      ]
     },
     "execution_count": 4,
     "metadata": {},
     "output_type": "execute_result"
    }
   ],
   "source": [
    "carriers1 = carriers.dropna(axis=0, how ='any' )\n",
    "pd.isnull(carriers1).sum(axis=0)"
   ]
  },
  {
   "cell_type": "code",
   "execution_count": 39,
   "id": "dff43062",
   "metadata": {},
   "outputs": [
    {
     "data": {
      "text/plain": [
       "tailnum            0\n",
       "type             549\n",
       "manufacturer     549\n",
       "issue_date       549\n",
       "model            549\n",
       "status           549\n",
       "aircraft_type    549\n",
       "engine_type      549\n",
       "year             549\n",
       "dtype: int64"
      ]
     },
     "execution_count": 39,
     "metadata": {},
     "output_type": "execute_result"
    }
   ],
   "source": [
    "pd.isnull(planedata).sum(axis=0)"
   ]
  },
  {
   "cell_type": "code",
   "execution_count": 6,
   "id": "2e09ec74",
   "metadata": {},
   "outputs": [
    {
     "data": {
      "text/plain": [
       "tailnum          0\n",
       "type             0\n",
       "manufacturer     0\n",
       "issue_date       0\n",
       "model            0\n",
       "status           0\n",
       "aircraft_type    0\n",
       "engine_type      0\n",
       "year             0\n",
       "dtype: int64"
      ]
     },
     "execution_count": 6,
     "metadata": {},
     "output_type": "execute_result"
    }
   ],
   "source": [
    "planedata1 = planedata.dropna(axis=0, how='any')\n",
    "pd.isnull(planedata1).sum(axis=0)"
   ]
  },
  {
   "cell_type": "markdown",
   "id": "0d4d6302",
   "metadata": {},
   "source": [
    "## Exporting cleaned datasets"
   ]
  },
  {
   "cell_type": "code",
   "execution_count": 42,
   "id": "6c1a8c8b",
   "metadata": {},
   "outputs": [],
   "source": [
    "airports1.to_csv('../datasets/airports cleaned.csv')"
   ]
  },
  {
   "cell_type": "code",
   "execution_count": 43,
   "id": "bd732cd8",
   "metadata": {},
   "outputs": [],
   "source": [
    "planedata1.to_csv('../datasets/plane data cleaned.csv')\n",
    "carriers1.to_csv('../datasets/carriers cleaned.csv')"
   ]
  },
  {
   "cell_type": "code",
   "execution_count": 45,
   "id": "03bf3ac5",
   "metadata": {},
   "outputs": [],
   "source": [
    "fullset1.to_csv('../datasets/fullset cleaned.csv')"
   ]
  }
 ],
 "metadata": {
  "kernelspec": {
   "display_name": "Python 3 (ipykernel)",
   "language": "python",
   "name": "python3"
  },
  "language_info": {
   "codemirror_mode": {
    "name": "ipython",
    "version": 3
   },
   "file_extension": ".py",
   "mimetype": "text/x-python",
   "name": "python",
   "nbconvert_exporter": "python",
   "pygments_lexer": "ipython3",
   "version": "3.8.8"
  }
 },
 "nbformat": 4,
 "nbformat_minor": 5
}
