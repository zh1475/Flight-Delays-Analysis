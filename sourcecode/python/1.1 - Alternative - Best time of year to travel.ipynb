{
 "cells": [
  {
   "cell_type": "markdown",
   "id": "7a8cf823",
   "metadata": {},
   "source": [
    "## Q1: When is the best time of year to fly to minimise delays?"
   ]
  },
  {
   "cell_type": "markdown",
   "id": "1d3eab4c",
   "metadata": {},
   "source": [
    "### Data Wrangling"
   ]
  },
  {
   "cell_type": "code",
   "execution_count": 2,
   "id": "4d26e967",
   "metadata": {},
   "outputs": [],
   "source": [
    "import numpy as np\n",
    "import pandas as pd\n",
    "\n",
    "fullset = pd.read_csv('../datasets/fullset cleaned.csv')\n",
    "\n",
    "# Subsetting flights by departure delays to answer Q1\n",
    "Q1 = fullset[[\"Year\",\"Month\",\"DayofMonth\",\"DayOfWeek\",\"CRSDepTime\",\"DepDelay\"]]"
   ]
  },
  {
   "cell_type": "code",
   "execution_count": 575,
   "id": "ac80df27",
   "metadata": {},
   "outputs": [],
   "source": [
    "# Creating a separate column where flights delayed for more than 15mins are given '1' and '0' otherwise\n",
    "\n",
    "Q1['Delayed'] = np.where(Q1[\"DepDelay\"] > 15, 1, 0)"
   ]
  },
  {
   "cell_type": "code",
   "execution_count": 576,
   "id": "3002348e",
   "metadata": {
    "scrolled": false
   },
   "outputs": [],
   "source": [
    "#Converting CRSDepTime to time format\n",
    "\n",
    "#Extracting the hours and minutes\n",
    "Minutes = Q1.CRSDepTime.astype(str).str[-2:]\n",
    "Hours = Q1.CRSDepTime.astype(str).str[:-2]\n",
    "\n",
    "#Setting the empty entries in Hours to 00 or 12am\n",
    "Hours[Hours == \"\"]= '0'\n",
    "\n",
    "#Combining Hours+Minutes to give CRSDepTime in time format\n",
    "Q1['CRSDepTime'] = pd.to_datetime(\n",
    "        Hours + \":\" + Minutes,\n",
    "        format = '%H:%M').dt.time"
   ]
  },
  {
   "cell_type": "code",
   "execution_count": 577,
   "id": "1bedd32f",
   "metadata": {},
   "outputs": [
    {
     "data": {
      "text/html": [
       "<div>\n",
       "<style scoped>\n",
       "    .dataframe tbody tr th:only-of-type {\n",
       "        vertical-align: middle;\n",
       "    }\n",
       "\n",
       "    .dataframe tbody tr th {\n",
       "        vertical-align: top;\n",
       "    }\n",
       "\n",
       "    .dataframe thead th {\n",
       "        text-align: right;\n",
       "    }\n",
       "</style>\n",
       "<table border=\"1\" class=\"dataframe\">\n",
       "  <thead>\n",
       "    <tr style=\"text-align: right;\">\n",
       "      <th></th>\n",
       "      <th>Year</th>\n",
       "      <th>Month</th>\n",
       "      <th>Week</th>\n",
       "      <th>DayOfWeek</th>\n",
       "      <th>%Delayed</th>\n",
       "    </tr>\n",
       "  </thead>\n",
       "  <tbody>\n",
       "    <tr>\n",
       "      <th>0</th>\n",
       "      <td>2006</td>\n",
       "      <td>1</td>\n",
       "      <td>01</td>\n",
       "      <td>7</td>\n",
       "      <td>24.4</td>\n",
       "    </tr>\n",
       "    <tr>\n",
       "      <th>1</th>\n",
       "      <td>2006</td>\n",
       "      <td>1</td>\n",
       "      <td>01</td>\n",
       "      <td>1</td>\n",
       "      <td>46.6</td>\n",
       "    </tr>\n",
       "    <tr>\n",
       "      <th>2</th>\n",
       "      <td>2006</td>\n",
       "      <td>1</td>\n",
       "      <td>01</td>\n",
       "      <td>2</td>\n",
       "      <td>41.5</td>\n",
       "    </tr>\n",
       "    <tr>\n",
       "      <th>3</th>\n",
       "      <td>2006</td>\n",
       "      <td>1</td>\n",
       "      <td>01</td>\n",
       "      <td>3</td>\n",
       "      <td>20.5</td>\n",
       "    </tr>\n",
       "    <tr>\n",
       "      <th>4</th>\n",
       "      <td>2006</td>\n",
       "      <td>1</td>\n",
       "      <td>01</td>\n",
       "      <td>4</td>\n",
       "      <td>14.8</td>\n",
       "    </tr>\n",
       "    <tr>\n",
       "      <th>...</th>\n",
       "      <td>...</td>\n",
       "      <td>...</td>\n",
       "      <td>...</td>\n",
       "      <td>...</td>\n",
       "      <td>...</td>\n",
       "    </tr>\n",
       "    <tr>\n",
       "      <th>725</th>\n",
       "      <td>2007</td>\n",
       "      <td>12</td>\n",
       "      <td>51</td>\n",
       "      <td>4</td>\n",
       "      <td>39.6</td>\n",
       "    </tr>\n",
       "    <tr>\n",
       "      <th>726</th>\n",
       "      <td>2007</td>\n",
       "      <td>12</td>\n",
       "      <td>51</td>\n",
       "      <td>5</td>\n",
       "      <td>45.7</td>\n",
       "    </tr>\n",
       "    <tr>\n",
       "      <th>727</th>\n",
       "      <td>2007</td>\n",
       "      <td>12</td>\n",
       "      <td>51</td>\n",
       "      <td>6</td>\n",
       "      <td>29.8</td>\n",
       "    </tr>\n",
       "    <tr>\n",
       "      <th>728</th>\n",
       "      <td>2007</td>\n",
       "      <td>12</td>\n",
       "      <td>52</td>\n",
       "      <td>7</td>\n",
       "      <td>29.7</td>\n",
       "    </tr>\n",
       "    <tr>\n",
       "      <th>729</th>\n",
       "      <td>2007</td>\n",
       "      <td>12</td>\n",
       "      <td>52</td>\n",
       "      <td>1</td>\n",
       "      <td>25.0</td>\n",
       "    </tr>\n",
       "  </tbody>\n",
       "</table>\n",
       "<p>730 rows × 5 columns</p>\n",
       "</div>"
      ],
      "text/plain": [
       "     Year  Month Week  DayOfWeek  %Delayed\n",
       "0    2006      1   01          7      24.4\n",
       "1    2006      1   01          1      46.6\n",
       "2    2006      1   01          2      41.5\n",
       "3    2006      1   01          3      20.5\n",
       "4    2006      1   01          4      14.8\n",
       "..    ...    ...  ...        ...       ...\n",
       "725  2007     12   51          4      39.6\n",
       "726  2007     12   51          5      45.7\n",
       "727  2007     12   51          6      29.8\n",
       "728  2007     12   52          7      29.7\n",
       "729  2007     12   52          1      25.0\n",
       "\n",
       "[730 rows x 5 columns]"
      ]
     },
     "execution_count": 577,
     "metadata": {},
     "output_type": "execute_result"
    }
   ],
   "source": [
    "yearly = Q1[['Year','Month','DayofMonth','DayOfWeek','Delayed']]  #subsetting data\n",
    "\n",
    "count = yearly.groupby(['Year','Month','DayofMonth','DayOfWeek']).count() #getting the number of flights per day into 'Delayed' column\n",
    "delaysum = yearly.groupby(['Year','Month','DayofMonth','DayOfWeek']).sum() #getting the total number of delays into 'Delayed' column\n",
    "\n",
    "delaysum['%Delayed'] = (delaysum['Delayed']/count['Delayed'])*100 #getting percentage of flights delayed per day into a new column\n",
    "delaysum['%Delayed'] = round(delaysum['%Delayed'],1) #rounding off the percentages to 1dp\n",
    "delaysum = delaysum.reset_index()\n",
    "\n",
    "#getting the week number by adding a new column for date\n",
    "\n",
    "delaysum = delaysum[['Year', 'Month', 'DayofMonth', 'DayOfWeek', '%Delayed']]\n",
    "delaysum = delaysum.rename(columns ={'DayofMonth':'Day'})\n",
    "\n",
    "delaysum['Date'] = pd.to_datetime(delaysum[['Year','Month','Day']]) #column of dates\n",
    "delaysum['Week'] = delaysum['Date'].dt.strftime('%U') #column of week number, with week starting from Sunday\n",
    "\n",
    "table = delaysum[['Year','Month','Week','DayOfWeek','%Delayed']]\n",
    "table"
   ]
  },
  {
   "cell_type": "code",
   "execution_count": 578,
   "id": "00eaf195",
   "metadata": {
    "scrolled": true
   },
   "outputs": [
    {
     "name": "stderr",
     "output_type": "stream",
     "text": [
      "C:\\Users\\MOHAMM~1\\AppData\\Local\\Temp/ipykernel_1528/2143875644.py:20: SettingWithCopyWarning: \n",
      "A value is trying to be set on a copy of a slice from a DataFrame.\n",
      "Try using .loc[row_indexer,col_indexer] = value instead\n",
      "\n",
      "See the caveats in the documentation: https://pandas.pydata.org/pandas-docs/stable/user_guide/indexing.html#returning-a-view-versus-a-copy\n",
      "  table['DayOfWeek'] = table.apply(lambda x: fix_day(x['DayOfWeek']), axis=1)\n"
     ]
    }
   ],
   "source": [
    "def fix_day(day):\n",
    "    if day == 1 :\n",
    "        day = \"Monday\"\n",
    "    elif day == 2 :\n",
    "        day = \"Tuesday\"\n",
    "    elif day == 3 :\n",
    "        day = \"Wednesday\"\n",
    "    elif day == 4 :\n",
    "        day = \"Thursday\"\n",
    "    elif day == 5 :\n",
    "        day = \"Friday\"\n",
    "    elif day == 6 :\n",
    "        day = \"Saturday\"\n",
    "    elif day == 7 :\n",
    "        day = \"Sunday\"\n",
    "    else:\n",
    "        day = day\n",
    "    return day\n",
    "\n",
    "table['DayOfWeek'] = table.apply(lambda x: fix_day(x['DayOfWeek']), axis=1)"
   ]
  },
  {
   "cell_type": "code",
   "execution_count": 579,
   "id": "672cd069",
   "metadata": {
    "scrolled": true
   },
   "outputs": [],
   "source": [
    "table06 = table[table['Year'] == 2006 ]\n",
    "table07 = table[table['Year'] == 2007 ].reset_index(drop=True)"
   ]
  },
  {
   "cell_type": "code",
   "execution_count": 580,
   "id": "d96c2d05",
   "metadata": {},
   "outputs": [],
   "source": [
    "row0 = pd.DataFrame({'Year':2007,\n",
    "          'Month':1,\n",
    "          'Week':'00',\n",
    "          'DayOfWeek': 'Sunday',\n",
    "          '%Delayed': 'NaN'}, index=[0])\n",
    "\n",
    "table07 = pd.concat([row0, table07]).reset_index(drop = True)"
   ]
  },
  {
   "cell_type": "markdown",
   "id": "2c762e70",
   "metadata": {},
   "source": [
    "### Visualization"
   ]
  },
  {
   "cell_type": "code",
   "execution_count": 581,
   "id": "fa806dac",
   "metadata": {},
   "outputs": [],
   "source": [
    "import matplotlib.pyplot as plt\n",
    "import seaborn as sns"
   ]
  },
  {
   "cell_type": "code",
   "execution_count": 631,
   "id": "658e68d9",
   "metadata": {},
   "outputs": [],
   "source": [
    "# Converting colours to rgb decimal values to be detected by matplotlib library\n",
    "\n",
    "import matplotlib.colors as pltc\n",
    "\n",
    "high = pltc.to_rgba('firebrick') \n",
    "med = pltc.to_rgba('lightcoral')\n",
    "low = pltc.to_rgba('limegreen')"
   ]
  },
  {
   "cell_type": "code",
   "execution_count": 583,
   "id": "3add5930",
   "metadata": {},
   "outputs": [],
   "source": [
    "pivot_table06 = pd.pivot_table(table06, index=['DayOfWeek'], columns=['Month','Week'], values=['%Delayed'], sort=False)\n",
    "\n",
    "pivot_table07 = pd.pivot_table(table07, index=['DayOfWeek'], columns=['Month','Week'], values=['%Delayed'], sort=False)"
   ]
  },
  {
   "cell_type": "code",
   "execution_count": 589,
   "id": "5e860a1c",
   "metadata": {
    "scrolled": true
   },
   "outputs": [
    {
     "data": {
      "image/png": "[encoded data removed]",
      "text/plain": [
       "<Figure size 1440x504 with 2 Axes>"
      ]
     },
     "metadata": {},
     "output_type": "display_data"
    }
   ],
   "source": [
    "# =================== plotting heatmaps ====================\n",
    "\n",
    "fig, ax=plt.subplots(2,1,figsize=(20,7))\n",
    "\n",
    "my_colors=[low,med,high,high] #using 4 colors divides value range into 4 and assigns colours accordingly\n",
    "\n",
    "#For 2006\n",
    "\n",
    "s = sns.heatmap(pivot_table06, \n",
    "            linewidths=.5, square=True, cbar=False,\n",
    "            cmap=my_colors, vmin=0, vmax=50, ax=ax[0])\n",
    "\n",
    "#customizing heatmap appearance\n",
    "\n",
    "s.set_xlabel('')\n",
    "s.set_ylabel('Day', fontsize=15, fontweight='bold', labelpad=10)\n",
    "s.set_title('% of Flights Delayed for >15min \\n \\n 2006', fontsize=18, fontweight='bold', pad=20)\n",
    "s.set_xticks([2,7,12,17,23,28,33,39,44,49,54,59])\n",
    "s.set_xticklabels(['Jan','Feb','Mar','Apr','May','Jun','Jul','Aug','Sep','Oct','Nov','Dec'], \n",
    "                  fontsize=12, horizontalalignment='left', rotation=None)\n",
    "s.set_yticks([1,2,3,4,5,6,7])\n",
    "s.set_yticklabels(['Sunday','Monday','Tuesday','Wednesday','Thursday','Friday','Saturday'],\n",
    "                  fontsize=12, verticalalignment='bottom')\n",
    "\n",
    "\n",
    "#For 2007\n",
    "\n",
    "p = sns.heatmap(pivot_table07, \n",
    "            linewidths=.5, square=True, cbar=False,\n",
    "            cmap=my_colors, vmin=0, vmax=50, ax=ax[1])\n",
    "\n",
    "#customizing heatmap appearance\n",
    "\n",
    "p.set_xlabel('Month', fontsize=15, fontweight='bold', labelpad=10)\n",
    "p.set_ylabel('Day', fontsize=15, fontweight='bold', labelpad=10)\n",
    "p.set_title('2007', fontsize=18, fontweight='bold', pad=20)\n",
    "p.set_xticks([2,7,12,16,22,27,31,37,42,48,53,59])\n",
    "p.set_xticklabels(['Jan','Feb','Mar','Apr','May','Jun','Jul','Aug','Sep','Oct','Nov','Dec'], \n",
    "                  fontsize=12, horizontalalignment='left', rotation=None)\n",
    "p.set_yticks([1,2,3,4,5,6,7])\n",
    "p.set_yticklabels(['Sunday','Monday','Tuesday','Wednesday','Thursday','Friday','Saturday'],\n",
    "                  fontsize=12, verticalalignment='bottom')\n",
    "\n",
    "\n",
    "#adding a legend\n",
    "\n",
    "import matplotlib.patches as mpatches\n",
    "green = mpatches.Patch(color='limegreen', label='0 - 12.5%')\n",
    "pink = mpatches.Patch(color='lightcoral', label='12.6% - 25%')\n",
    "red = mpatches.Patch(color='firebrick', label='25% - 50%')\n",
    "\n",
    "plt.legend(handles=[green,pink,red], fontsize=10, bbox_to_anchor=(-0.01,1.5))\n",
    "\n",
    "plt.savefig('Delays per year')"
   ]
  }
 ],
 "metadata": {
  "kernelspec": {
   "display_name": "Python 3 (ipykernel)",
   "language": "python",
   "name": "python3"
  },
  "language_info": {
   "codemirror_mode": {
    "name": "ipython",
    "version": 3
   },
   "file_extension": ".py",
   "mimetype": "text/x-python",
   "name": "python",
   "nbconvert_exporter": "python",
   "pygments_lexer": "ipython3",
   "version": "3.8.8"
  }
 },
 "nbformat": 4,
 "nbformat_minor": 5
}
