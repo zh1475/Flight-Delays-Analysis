{
 "cells": [
  {
   "cell_type": "markdown",
   "id": "eef5074e",
   "metadata": {},
   "source": [
    "## Q2: Do older planes suffer more delays?"
   ]
  },
  {
   "cell_type": "markdown",
   "id": "44db1e4d",
   "metadata": {},
   "source": [
    "### Importing dataset and libraries"
   ]
  },
  {
   "cell_type": "code",
   "execution_count": 1,
   "id": "e98e557d",
   "metadata": {},
   "outputs": [],
   "source": [
    "import warnings\n",
    "warnings.filterwarnings('ignore')"
   ]
  },
  {
   "cell_type": "code",
   "execution_count": 3,
   "id": "0149b607",
   "metadata": {},
   "outputs": [],
   "source": [
    "import numpy as np\n",
    "import pandas as pd\n",
    "\n",
    "fullset = pd.read_csv('../datasets/fullset cleaned.csv')\n",
    "planes = pd.read_csv('../datasets/plane data cleaned.csv')"
   ]
  },
  {
   "cell_type": "markdown",
   "id": "a42671ef",
   "metadata": {},
   "source": [
    "### Data Wrangling"
   ]
  },
  {
   "cell_type": "code",
   "execution_count": 4,
   "id": "d7ed8e27",
   "metadata": {},
   "outputs": [
    {
     "data": {
      "text/plain": [
       "Index(['Unnamed: 0', 'Year', 'Month', 'DayofMonth', 'DayOfWeek', 'DepTime',\n",
       "       'CRSDepTime', 'ArrTime', 'CRSArrTime', 'UniqueCarrier', 'FlightNum',\n",
       "       'TailNum', 'ActualElapsedTime', 'CRSElapsedTime', 'AirTime', 'ArrDelay',\n",
       "       'DepDelay', 'Origin', 'Dest', 'Distance', 'TaxiIn', 'TaxiOut',\n",
       "       'Cancelled', 'Diverted', 'CarrierDelay', 'WeatherDelay', 'NASDelay',\n",
       "       'SecurityDelay', 'LateAircraftDelay'],\n",
       "      dtype='object')"
      ]
     },
     "execution_count": 4,
     "metadata": {},
     "output_type": "execute_result"
    }
   ],
   "source": [
    "planes.columns\n",
    "fullset.columns"
   ]
  },
  {
   "cell_type": "code",
   "execution_count": 5,
   "id": "82a9e22c",
   "metadata": {},
   "outputs": [],
   "source": [
    "# Subsetting the columns needed\n",
    "\n",
    "Q2 = fullset[['TailNum', 'DepDelay']]\n",
    "planes = planes[['tailnum', 'year']]"
   ]
  },
  {
   "cell_type": "code",
   "execution_count": 6,
   "id": "e0d8a4d4",
   "metadata": {},
   "outputs": [],
   "source": [
    "delays = Q2[Q2['DepDelay'] > 0] # Filtering out the journeys that had no departure delay"
   ]
  },
  {
   "cell_type": "code",
   "execution_count": 7,
   "id": "b2ff8a68",
   "metadata": {},
   "outputs": [
    {
     "data": {
      "text/html": [
       "<div>\n",
       "<style scoped>\n",
       "    .dataframe tbody tr th:only-of-type {\n",
       "        vertical-align: middle;\n",
       "    }\n",
       "\n",
       "    .dataframe tbody tr th {\n",
       "        vertical-align: top;\n",
       "    }\n",
       "\n",
       "    .dataframe thead th {\n",
       "        text-align: right;\n",
       "    }\n",
       "</style>\n",
       "<table border=\"1\" class=\"dataframe\">\n",
       "  <thead>\n",
       "    <tr style=\"text-align: right;\">\n",
       "      <th></th>\n",
       "      <th>TailNum</th>\n",
       "      <th>DepDelay</th>\n",
       "      <th>tailnum</th>\n",
       "      <th>year</th>\n",
       "    </tr>\n",
       "  </thead>\n",
       "  <tbody>\n",
       "    <tr>\n",
       "      <th>0</th>\n",
       "      <td>N105UW</td>\n",
       "      <td>132.0</td>\n",
       "      <td>N105UW</td>\n",
       "      <td>1999</td>\n",
       "    </tr>\n",
       "    <tr>\n",
       "      <th>1</th>\n",
       "      <td>N105UW</td>\n",
       "      <td>121.0</td>\n",
       "      <td>N105UW</td>\n",
       "      <td>1999</td>\n",
       "    </tr>\n",
       "    <tr>\n",
       "      <th>2</th>\n",
       "      <td>N105UW</td>\n",
       "      <td>39.0</td>\n",
       "      <td>N105UW</td>\n",
       "      <td>1999</td>\n",
       "    </tr>\n",
       "    <tr>\n",
       "      <th>3</th>\n",
       "      <td>N105UW</td>\n",
       "      <td>52.0</td>\n",
       "      <td>N105UW</td>\n",
       "      <td>1999</td>\n",
       "    </tr>\n",
       "    <tr>\n",
       "      <th>4</th>\n",
       "      <td>N105UW</td>\n",
       "      <td>130.0</td>\n",
       "      <td>N105UW</td>\n",
       "      <td>1999</td>\n",
       "    </tr>\n",
       "    <tr>\n",
       "      <th>...</th>\n",
       "      <td>...</td>\n",
       "      <td>...</td>\n",
       "      <td>...</td>\n",
       "      <td>...</td>\n",
       "    </tr>\n",
       "    <tr>\n",
       "      <th>4983623</th>\n",
       "      <td>N665JB</td>\n",
       "      <td>4.0</td>\n",
       "      <td>N665JB</td>\n",
       "      <td>2007</td>\n",
       "    </tr>\n",
       "    <tr>\n",
       "      <th>4983624</th>\n",
       "      <td>N665JB</td>\n",
       "      <td>37.0</td>\n",
       "      <td>N665JB</td>\n",
       "      <td>2007</td>\n",
       "    </tr>\n",
       "    <tr>\n",
       "      <th>4983625</th>\n",
       "      <td>N665JB</td>\n",
       "      <td>11.0</td>\n",
       "      <td>N665JB</td>\n",
       "      <td>2007</td>\n",
       "    </tr>\n",
       "    <tr>\n",
       "      <th>4983626</th>\n",
       "      <td>N665JB</td>\n",
       "      <td>3.0</td>\n",
       "      <td>N665JB</td>\n",
       "      <td>2007</td>\n",
       "    </tr>\n",
       "    <tr>\n",
       "      <th>4983627</th>\n",
       "      <td>N665JB</td>\n",
       "      <td>5.0</td>\n",
       "      <td>N665JB</td>\n",
       "      <td>2007</td>\n",
       "    </tr>\n",
       "  </tbody>\n",
       "</table>\n",
       "<p>4983628 rows × 4 columns</p>\n",
       "</div>"
      ],
      "text/plain": [
       "        TailNum  DepDelay tailnum  year\n",
       "0        N105UW     132.0  N105UW  1999\n",
       "1        N105UW     121.0  N105UW  1999\n",
       "2        N105UW      39.0  N105UW  1999\n",
       "3        N105UW      52.0  N105UW  1999\n",
       "4        N105UW     130.0  N105UW  1999\n",
       "...         ...       ...     ...   ...\n",
       "4983623  N665JB       4.0  N665JB  2007\n",
       "4983624  N665JB      37.0  N665JB  2007\n",
       "4983625  N665JB      11.0  N665JB  2007\n",
       "4983626  N665JB       3.0  N665JB  2007\n",
       "4983627  N665JB       5.0  N665JB  2007\n",
       "\n",
       "[4983628 rows x 4 columns]"
      ]
     },
     "execution_count": 7,
     "metadata": {},
     "output_type": "execute_result"
    }
   ],
   "source": [
    "# Merging according to tail number to get corresponding year of manufacture\n",
    "\n",
    "age_vs_delays = pd.merge(delays, planes, left_on='TailNum', right_on='tailnum')\n",
    "age_vs_delays"
   ]
  },
  {
   "cell_type": "code",
   "execution_count": 8,
   "id": "328cf264",
   "metadata": {},
   "outputs": [],
   "source": [
    "# Cleaning out inconsistent values\n",
    "\n",
    "age_vs_delays.sort_values(['year'])\n",
    "\n",
    "age_vs_delays = age_vs_delays[(age_vs_delays['year'] != 'None') & \n",
    "                              (age_vs_delays['year'] != '0')]"
   ]
  },
  {
   "cell_type": "code",
   "execution_count": 9,
   "id": "99f6e378",
   "metadata": {},
   "outputs": [],
   "source": [
    "# Grouping and aggregating to get mean length of departure delay\n",
    "\n",
    "age_vs_delays = age_vs_delays[['year','DepDelay']].groupby(['year']).mean()"
   ]
  },
  {
   "cell_type": "markdown",
   "id": "35b0762a",
   "metadata": {},
   "source": [
    "### Visualizing"
   ]
  },
  {
   "cell_type": "code",
   "execution_count": 10,
   "id": "9dd5394c",
   "metadata": {},
   "outputs": [],
   "source": [
    "import matplotlib.pyplot as plt\n",
    "import seaborn as sns"
   ]
  },
  {
   "cell_type": "code",
   "execution_count": 11,
   "id": "707234d3",
   "metadata": {},
   "outputs": [
    {
     "data": {
      "image/png": "[encoded data removed]",
      "text/plain": [
       "<Figure size 720x360 with 1 Axes>"
      ]
     },
     "metadata": {
      "needs_background": "light"
     },
     "output_type": "display_data"
    }
   ],
   "source": [
    "fig, ax=plt.subplots(1,1, figsize=(10,5))\n",
    "\n",
    "sns.scatterplot(age_vs_delays.index, 'DepDelay', data=age_vs_delays, legend=False)\n",
    "\n",
    "ax.set_ylabel('Mean length of Departure Delay',\n",
    "                 color='#404040',\n",
    "                 size = 13,\n",
    "                 labelpad=10)\n",
    "ax.set_xlabel('Year of Manufacture of Plane',\n",
    "                 color='#404040',\n",
    "                 size = 13,\n",
    "                 labelpad=10)\n",
    "ax.set_title(\"Age of Plane vs Delays in 2006/2007\",\n",
    "                color='#404040',\n",
    "                size = 18,\n",
    "                weight = 'bold',\n",
    "                pad=15)\n",
    "\n",
    "ax.set_xticks(ax.get_xticks()[::10])\n",
    "\n",
    "plt.savefig('Age vs Delays in 2006 and 2007.png')"
   ]
  }
 ],
 "metadata": {
  "kernelspec": {
   "display_name": "Python 3 (ipykernel)",
   "language": "python",
   "name": "python3"
  },
  "language_info": {
   "codemirror_mode": {
    "name": "ipython",
    "version": 3
   },
   "file_extension": ".py",
   "mimetype": "text/x-python",
   "name": "python",
   "nbconvert_exporter": "python",
   "pygments_lexer": "ipython3",
   "version": "3.8.8"
  }
 },
 "nbformat": 4,
 "nbformat_minor": 5
}
