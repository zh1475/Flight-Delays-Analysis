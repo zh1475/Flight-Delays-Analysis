{
 "cells": [
  {
   "cell_type": "markdown",
   "id": "fb8b1c97",
   "metadata": {},
   "source": [
    "## Q5: Use the available variables to construct a model that predicts delays."
   ]
  },
  {
   "cell_type": "markdown",
   "id": "772cd765",
   "metadata": {},
   "source": [
    "### Importing datasets and libraries"
   ]
  },
  {
   "cell_type": "code",
   "execution_count": 3,
   "id": "bf065636",
   "metadata": {},
   "outputs": [],
   "source": [
    "import warnings\n",
    "warnings.filterwarnings('ignore') # This ignores warnings that appear with ouputs"
   ]
  },
  {
   "cell_type": "code",
   "execution_count": 2,
   "id": "5cc5b58b",
   "metadata": {},
   "outputs": [],
   "source": [
    "import numpy as np\n",
    "import pandas as pd\n",
    "import matplotlib.pyplot as plt\n",
    "import seaborn as sns\n",
    "\n",
    "from sklearn.metrics import roc_auc_score\n",
    "from sklearn.model_selection import train_test_split, GridSearchCV\n",
    "from sklearn.linear_model import LogisticRegression\n",
    "from sklearn.pipeline import Pipeline\n",
    "from sklearn.impute import SimpleImputer\n",
    "from sklearn.preprocessing import StandardScaler, OneHotEncoder\n",
    "from sklearn.compose import ColumnTransformer\n",
    "from sklearn.metrics import plot_roc_curve"
   ]
  },
  {
   "cell_type": "code",
   "execution_count": 5,
   "id": "3c1b3435",
   "metadata": {},
   "outputs": [],
   "source": [
    "fullset = pd.read_csv('../datasets/fullset cleaned.csv')\n",
    "planes = pd.read_csv('../datasets/plane data cleaned.csv')"
   ]
  },
  {
   "cell_type": "markdown",
   "id": "53ed4832",
   "metadata": {},
   "source": [
    "### Data Wrangling"
   ]
  },
  {
   "cell_type": "code",
   "execution_count": 6,
   "id": "d8c2d7dd",
   "metadata": {},
   "outputs": [],
   "source": [
    "# Subsetting and creating columns with dummy variable to represent departure delay if delay length > 15, and 0 otherwise\n",
    "\n",
    "model1 = fullset[['Year', 'Month', 'DayofMonth', 'DayOfWeek', 'CRSDepTime', 'TailNum', 'DepDelay', 'Origin', 'Dest']]\n",
    "model2 = planes[['tailnum', 'year']]\n",
    "\n",
    "model1['DepDelayed'] = np.where(model1[\"DepDelay\"] > 15, 1, 0)\n",
    "\n",
    "# Merging with plane data to get the corresponding years of manufacture\n",
    "\n",
    "model = pd.merge(model1, model2, left_on='TailNum', right_on='tailnum')"
   ]
  },
  {
   "cell_type": "code",
   "execution_count": 7,
   "id": "7abcdd8f",
   "metadata": {
    "scrolled": true
   },
   "outputs": [
    {
     "data": {
      "text/plain": [
       "2001    1104367\n",
       "2002     889007\n",
       "2000     873931\n",
       "2003     842526\n",
       "1999     839318\n",
       "2004     735168\n",
       "1998     676997\n",
       "2005     593303\n",
       "1988     386807\n",
       "1996     386620\n",
       "1991     368946\n",
       "1997     356769\n",
       "None     351276\n",
       "1992     339206\n",
       "1990     338796\n",
       "1987     334172\n",
       "2006     320645\n",
       "1994     314060\n",
       "1995     307708\n",
       "1989     290669\n",
       "1985     256048\n",
       "1993     255093\n",
       "1986     229929\n",
       "2007      89061\n",
       "1984      66851\n",
       "1968      65140\n",
       "1983      43192\n",
       "1967      36487\n",
       "1969      34318\n",
       "1979      29244\n",
       "1978      25539\n",
       "1975      24809\n",
       "1976      24764\n",
       "1980      20538\n",
       "1977      13625\n",
       "1982      10956\n",
       "0         10422\n",
       "1973       7902\n",
       "1970       5812\n",
       "1959       5010\n",
       "1966       3205\n",
       "1963       3173\n",
       "1974       3151\n",
       "1962       2818\n",
       "1964       2793\n",
       "1971       2784\n",
       "1965       2550\n",
       "1957       1793\n",
       "1956        556\n",
       "1972        531\n",
       "Name: year, dtype: int64"
      ]
     },
     "execution_count": 7,
     "metadata": {},
     "output_type": "execute_result"
    }
   ],
   "source": [
    "model.year.value_counts() #Checking for consistency in values"
   ]
  },
  {
   "cell_type": "code",
   "execution_count": 13,
   "id": "8f3a44cd",
   "metadata": {},
   "outputs": [],
   "source": [
    "# Removing inconsistent values\n",
    "\n",
    "model = model[(model['year'] != 'None') & \n",
    "                              (model['year'] != '0')]"
   ]
  },
  {
   "cell_type": "code",
   "execution_count": 14,
   "id": "9d479f56",
   "metadata": {},
   "outputs": [],
   "source": [
    "# Sampling out 2 million rows for building predictive model\n",
    "# (due to computational power limits, the model cannot be built using the entire dataset)\n",
    "\n",
    "model = model.sample(n=2000000)"
   ]
  },
  {
   "cell_type": "markdown",
   "id": "c9b7fec9",
   "metadata": {},
   "source": [
    "### Setting up Pipeline"
   ]
  },
  {
   "cell_type": "code",
   "execution_count": 15,
   "id": "63f48089",
   "metadata": {},
   "outputs": [],
   "source": [
    "#Selecting the features to be used for training the model\n",
    "\n",
    "features = ['Year', 'Month', 'DayofMonth', 'DayOfWeek', 'CRSDepTime', 'year', 'Origin', 'Dest']\n",
    "numerical_features = ['CRSDepTime'] \n",
    "categorical_features = ['Year', 'Month', 'DayofMonth', 'DayOfWeek', 'Origin', 'Dest', 'year'] \n",
    "\n",
    "# Year = 2006/2007, year = year of manufacture"
   ]
  },
  {
   "cell_type": "code",
   "execution_count": 16,
   "id": "a48231a0",
   "metadata": {},
   "outputs": [],
   "source": [
    "# Setting up variables for feature transformation\n",
    "\n",
    "X = model[features].copy()\n",
    "\n",
    "numerical_transformer = Pipeline(steps=[ ('imputer', SimpleImputer()), ('scaler', StandardScaler())])\n",
    "categorical_transformer = Pipeline(steps=[ ('imputer', SimpleImputer()), ('onehot', OneHotEncoder(handle_unknown='ignore'))])\n",
    "\n",
    "data_transformer = ColumnTransformer(transformers=[('numerical', numerical_transformer, numerical_features),\n",
    "                                                   ('categorical', categorical_transformer, categorical_features)])"
   ]
  },
  {
   "cell_type": "code",
   "execution_count": 17,
   "id": "b2413377",
   "metadata": {},
   "outputs": [],
   "source": [
    "# Splitting the dataset into train and test sets\n",
    "\n",
    "X_train, X_test, y_train, y_test = train_test_split(X, model.DepDelayed, test_size=0.5, random_state=1)\n",
    "\n",
    "# test size indicates that 50% of the data will be taken as test set, the random state=1 ensures that the \n",
    "# dataset is split in the same way each time the code is run to allow the results to be replicated"
   ]
  },
  {
   "cell_type": "markdown",
   "id": "a122d6f9",
   "metadata": {},
   "source": [
    "### Building a Logistic Regression model"
   ]
  },
  {
   "cell_type": "code",
   "execution_count": 18,
   "id": "c1a207e9",
   "metadata": {},
   "outputs": [],
   "source": [
    "logreg_pipe = Pipeline(steps=[('data_transformer', data_transformer), ('logreg_pipe', LogisticRegression(max_iter=10000))])"
   ]
  },
  {
   "cell_type": "code",
   "execution_count": 19,
   "id": "ca64b8a3",
   "metadata": {},
   "outputs": [],
   "source": [
    "# Creating parameter grid to perform grid search for hyperparameter tuning to optimize model performance\n",
    "\n",
    "param_grid = {\n",
    "'data_transformer__numerical__imputer__strategy': ['mean', 'median'],\n",
    "'data_transformer__categorical__imputer__strategy': ['constant','most_frequent']\n",
    "}\n",
    "\n",
    "logreg_grid = GridSearchCV(logreg_pipe, param_grid=param_grid) # Performing grid search\n",
    "logreg_grid.fit(X_train, y_train); # Fitting train data to model"
   ]
  },
  {
   "cell_type": "markdown",
   "id": "a16294bb",
   "metadata": {},
   "source": [
    "## Evaluating Model"
   ]
  },
  {
   "cell_type": "code",
   "execution_count": 33,
   "id": "89253927",
   "metadata": {},
   "outputs": [
    {
     "data": {
      "image/png": "[encoded data removed]",
      "text/plain": [
       "<Figure size 432x288 with 1 Axes>"
      ]
     },
     "metadata": {
      "needs_background": "light"
     },
     "output_type": "display_data"
    }
   ],
   "source": [
    "# Plotting ROC Curve and calculating AUC score\n",
    "\n",
    "ax = plt.gca()\n",
    "roc = plot_roc_curve(logreg_grid, X_test, y_test, ax=ax, name='Logistic Regression') \n",
    "roc.figure_.suptitle(\"ROC Curve\")\n",
    "\n",
    "plt.savefig('ROC Curve.png')"
   ]
  }
 ],
 "metadata": {
  "kernelspec": {
   "display_name": "Python 3 (ipykernel)",
   "language": "python",
   "name": "python3"
  },
  "language_info": {
   "codemirror_mode": {
    "name": "ipython",
    "version": 3
   },
   "file_extension": ".py",
   "mimetype": "text/x-python",
   "name": "python",
   "nbconvert_exporter": "python",
   "pygments_lexer": "ipython3",
   "version": "3.8.8"
  }
 },
 "nbformat": 4,
 "nbformat_minor": 5
}
