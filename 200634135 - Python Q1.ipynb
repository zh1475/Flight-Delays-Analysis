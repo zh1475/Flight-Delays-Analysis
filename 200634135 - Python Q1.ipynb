{
 "cells": [
  {
   "cell_type": "markdown",
   "id": "a7108ec3",
   "metadata": {},
   "source": [
    "### Importing datasets and libraries"
   ]
  },
  {
   "cell_type": "code",
   "execution_count": null,
   "id": "8535df64",
   "metadata": {},
   "outputs": [],
   "source": [
    "import numpy as np\n",
    "import pandas as pd\n",
    "import matplotlib.pyplot as plt\n",
    "import seaborn as sns\n",
    "\n",
    "import warnings\n",
    "warnings.filterwarnings('ignore')"
   ]
  },
  {
   "cell_type": "code",
   "execution_count": null,
   "id": "17d70f30",
   "metadata": {},
   "outputs": [],
   "source": [
    "y6 = pd.read_csv(r'..\\datasets\\2006.csv') # Imporitng 2006 data\n",
    "y7 = pd.read_csv(r'..\\datasets\\2007.csv') # Importing 2007 data\n",
    "\n",
    "full_set = pd.concat([y6, y7])  # Combining flight data of both years together, 2006 on top of 2007\n",
    "full_set"
   ]
  },
  {
   "cell_type": "code",
   "execution_count": null,
   "id": "2ee9306d",
   "metadata": {},
   "outputs": [],
   "source": [
    "# Importing datasets of airports, carriers and planes\n",
    "\n",
    "airports = pd.read_csv(r'..\\datasets\\airports.csv')\n",
    "carriers = pd.read_csv(r'..\\datasets\\carriers.csv')\n",
    "planedata = pd.read_csv(r'..\\datasets\\plane-data.csv')"
   ]
  },
  {
   "cell_type": "markdown",
   "id": "20f23b3e",
   "metadata": {},
   "source": [
    "### Cleaning the data"
   ]
  },
  {
   "cell_type": "code",
   "execution_count": null,
   "id": "c3ec44fe",
   "metadata": {},
   "outputs": [],
   "source": [
    "pd.isnull(full_set).sum(axis=0) # Looking for NA values in flight dataset"
   ]
  },
  {
   "cell_type": "code",
   "execution_count": null,
   "id": "f5898f0e",
   "metadata": {},
   "outputs": [],
   "source": [
    "# Removing null values in \"ArrTime\" column \n",
    "\n",
    "fullset1 = full_set.dropna(axis=0, subset= [\"ArrTime\"], how='any') \n",
    "pd.isnull(fullset1).sum(axis=0)"
   ]
  },
  {
   "cell_type": "code",
   "execution_count": null,
   "id": "c208f9ff",
   "metadata": {},
   "outputs": [],
   "source": [
    "fullset1 = fullset1.dropna(axis=1, how='any') # Removing columns with any null values"
   ]
  },
  {
   "cell_type": "code",
   "execution_count": null,
   "id": "c7a2df76",
   "metadata": {},
   "outputs": [],
   "source": [
    "# Confirming all null values are removed\n",
    "\n",
    "pd.isnull(fullset1).sum(axis=0)"
   ]
  },
  {
   "cell_type": "code",
   "execution_count": null,
   "id": "01f70ea7",
   "metadata": {},
   "outputs": [],
   "source": [
    "# Repeating process for other datasets\n",
    "\n",
    "airports1 = airports.dropna(axis=0, how='any')\n",
    "carriers1 = carriers.dropna(axis=0, how ='any' )\n",
    "planedata1 = planedata.dropna(axis=0, how='any')"
   ]
  },
  {
   "cell_type": "code",
   "execution_count": null,
   "id": "ccfab0e1",
   "metadata": {},
   "outputs": [],
   "source": [
    "# Confirming all null values are removed\n",
    "\n",
    "pd.isnull(airports1).sum(axis=0)"
   ]
  },
  {
   "cell_type": "code",
   "execution_count": null,
   "id": "4978813b",
   "metadata": {},
   "outputs": [],
   "source": [
    "pd.isnull(carriers1).sum(axis=0)"
   ]
  },
  {
   "cell_type": "code",
   "execution_count": null,
   "id": "eb7d8908",
   "metadata": {},
   "outputs": [],
   "source": [
    "pd.isnull(planedata1).sum(axis=0)"
   ]
  },
  {
   "cell_type": "markdown",
   "id": "da0951bc",
   "metadata": {},
   "source": [
    "### Exporting cleaned datasets"
   ]
  },
  {
   "cell_type": "code",
   "execution_count": null,
   "id": "c530d307",
   "metadata": {},
   "outputs": [],
   "source": [
    "airports1.to_csv('../datasets/airports cleaned.csv')\n",
    "planedata1.to_csv('../datasets/plane data cleaned.csv')\n",
    "carriers1.to_csv('../datasets/carriers cleaned.csv')\n",
    "\n",
    "fullset1.to_csv('../datasets/fullset cleaned.csv')"
   ]
  },
  {
   "cell_type": "markdown",
   "id": "e512c159",
   "metadata": {},
   "source": [
    "## Q1: When is the best time of day, day of the week, and time of year to fly to minimise delays?"
   ]
  },
  {
   "cell_type": "markdown",
   "id": "5834c4dd",
   "metadata": {},
   "source": [
    "## <font color=green> Best time of year to fly: </font>"
   ]
  },
  {
   "cell_type": "code",
   "execution_count": 2,
   "id": "de3281ac",
   "metadata": {},
   "outputs": [],
   "source": [
    "fullset = pd.read_csv('../datasets/fullset cleaned.csv') # Importing cleaned data\n",
    "\n",
    "#Subsetting flights by \"DepDelay\" column to answer Q1\n",
    "Q1 = fullset[[\"Year\",\"Month\",\"DayofMonth\",\"DayOfWeek\",\"CRSDepTime\",\"DepDelay\"]]"
   ]
  },
  {
   "cell_type": "markdown",
   "id": "59640265",
   "metadata": {},
   "source": [
    "### Data Wrangling"
   ]
  },
  {
   "cell_type": "code",
   "execution_count": 3,
   "id": "04a47bd6",
   "metadata": {},
   "outputs": [],
   "source": [
    "#Creating a dummy variable 'Delayed' where flights delayed for more than 15mins are given '1' and '0' otherwise\n",
    "\n",
    "Q1['Delayed'] = np.where(Q1[\"DepDelay\"] > 15, 1, 0) "
   ]
  },
  {
   "cell_type": "code",
   "execution_count": 4,
   "id": "19a5cdf5",
   "metadata": {},
   "outputs": [],
   "source": [
    "#Subsetting to get percentage of flights delayed per month\n",
    "\n",
    "yearly = Q1[['Year','Month','Delayed']]\n",
    "count = yearly.groupby(['Year','Month']).count() #getting the count of flights per month\n",
    "sums = yearly.groupby(['Year','Month']).sum() #getting the number of delays per month into 'Delayed' column"
   ]
  },
  {
   "cell_type": "code",
   "execution_count": 5,
   "id": "1131afc6",
   "metadata": {},
   "outputs": [],
   "source": [
    "#getting percentage of flights delayed per month into a new column\n",
    "\n",
    "sums['percDelayed'] = (sums['Delayed']/count['Delayed'])*100 \n",
    "sums['percDelayed'] = round(sums['percDelayed'],1)\n",
    "\n",
    "sums = sums.reset_index()\n",
    "yearly = sums[['Year','Month','percDelayed']]\n",
    "\n",
    "#Separating the percentages by Year\n",
    "year06 = yearly[yearly['Year'] == 2006]\n",
    "year07 = yearly[yearly['Year'] == 2007]"
   ]
  },
  {
   "cell_type": "markdown",
   "id": "69f53f7e",
   "metadata": {},
   "source": [
    "### Visualizing"
   ]
  },
  {
   "cell_type": "code",
   "execution_count": 7,
   "id": "f48ba13f",
   "metadata": {},
   "outputs": [
    {
     "data": {
      "image/png": "[encoded data removed]",
      "text/plain": [
       "<Figure size 1440x576 with 2 Axes>"
      ]
     },
     "metadata": {
      "needs_background": "light"
     },
     "output_type": "display_data"
    }
   ],
   "source": [
    "# Column Plot\n",
    "fig, ax = plt.subplots(1, 2, figsize = (20, 8))\n",
    "\n",
    "# Plot 1\n",
    "\n",
    "ax[0].bar(['Jan','Feb','Mar','Apr','May','Jun','Jul','Aug','Sep','Oct','Nov','Dec'], \n",
    "          year06['percDelayed'],\n",
    "          alpha = 0.8, \n",
    "          width = 0.7,\n",
    "          color='#996699')\n",
    "\n",
    "ax[0].set_ylabel('Percentage of Departure Delays',\n",
    "                 color='#404040',\n",
    "                 size = 15,\n",
    "                 labelpad=10)\n",
    "ax[0].set_xlabel('Month',\n",
    "                 color='#404040',\n",
    "                 size = 15,\n",
    "                 labelpad=12)\n",
    "ax[0].set_title(\"% of Flights Delayed >15min in 2006 \\n\",\n",
    "                color='#404040',\n",
    "                size = 18,\n",
    "                weight = 'bold')\n",
    "ax[0].set_yticks([ 0., 2.5,  5.,7.5, 10.,12.5, 15.,17.5, 20.,22.5, 25.])\n",
    "\n",
    "\n",
    "# Plot 2\n",
    "\n",
    "ax[1].bar(['Jan','Feb','Mar','Apr','May','Jun','Jul','Aug','Sep','Oct','Nov','Dec'], \n",
    "          year07['percDelayed'],\n",
    "          alpha = 0.8, \n",
    "          width = 0.7,\n",
    "          color='#669fa8')\n",
    "\n",
    "ax[1].set_xlabel('Month',\n",
    "                 color='#404040',\n",
    "                 size = 15,\n",
    "                 labelpad=12)\n",
    "ax[1].set_title(\"% of Flights Delayed >15min in 2007 \\n\",\n",
    "                color='#404040',\n",
    "                size = 18,\n",
    "                weight = 'bold')\n",
    "ax[1].set_yticks([ 0., 2.5,  5.,7.5, 10.,12.5, 15.,17.5, 20.,22.5, 25.,27.5,30.])\n",
    "\n",
    "plt.subplots_adjust(left=0.15)\n",
    "\n",
    "plt.savefig('Delays in a Year.png')"
   ]
  },
  {
   "cell_type": "markdown",
   "id": "833e119e",
   "metadata": {},
   "source": [
    "## <font color=green> Best time of day and best day of week to fly: </font>"
   ]
  },
  {
   "cell_type": "markdown",
   "id": "c792b9fc",
   "metadata": {},
   "source": [
    "### Data Wrangling"
   ]
  },
  {
   "cell_type": "code",
   "execution_count": 8,
   "id": "099b9f03",
   "metadata": {},
   "outputs": [
    {
     "data": {
      "text/html": [
       "<div>\n",
       "<style scoped>\n",
       "    .dataframe tbody tr th:only-of-type {\n",
       "        vertical-align: middle;\n",
       "    }\n",
       "\n",
       "    .dataframe tbody tr th {\n",
       "        vertical-align: top;\n",
       "    }\n",
       "\n",
       "    .dataframe thead th {\n",
       "        text-align: right;\n",
       "    }\n",
       "</style>\n",
       "<table border=\"1\" class=\"dataframe\">\n",
       "  <thead>\n",
       "    <tr style=\"text-align: right;\">\n",
       "      <th></th>\n",
       "      <th>CRSDepTime</th>\n",
       "      <th>Delayed</th>\n",
       "    </tr>\n",
       "  </thead>\n",
       "  <tbody>\n",
       "    <tr>\n",
       "      <th>0</th>\n",
       "      <td>7</td>\n",
       "      <td>0</td>\n",
       "    </tr>\n",
       "    <tr>\n",
       "      <th>1</th>\n",
       "      <td>10</td>\n",
       "      <td>0</td>\n",
       "    </tr>\n",
       "    <tr>\n",
       "      <th>2</th>\n",
       "      <td>19</td>\n",
       "      <td>0</td>\n",
       "    </tr>\n",
       "    <tr>\n",
       "      <th>3</th>\n",
       "      <td>17</td>\n",
       "      <td>0</td>\n",
       "    </tr>\n",
       "    <tr>\n",
       "      <th>4</th>\n",
       "      <td>8</td>\n",
       "      <td>0</td>\n",
       "    </tr>\n",
       "    <tr>\n",
       "      <th>...</th>\n",
       "      <td>...</td>\n",
       "      <td>...</td>\n",
       "    </tr>\n",
       "    <tr>\n",
       "      <th>14279085</th>\n",
       "      <td>16</td>\n",
       "      <td>0</td>\n",
       "    </tr>\n",
       "    <tr>\n",
       "      <th>14279086</th>\n",
       "      <td>18</td>\n",
       "      <td>0</td>\n",
       "    </tr>\n",
       "    <tr>\n",
       "      <th>14279087</th>\n",
       "      <td>10</td>\n",
       "      <td>0</td>\n",
       "    </tr>\n",
       "    <tr>\n",
       "      <th>14279088</th>\n",
       "      <td>13</td>\n",
       "      <td>1</td>\n",
       "    </tr>\n",
       "    <tr>\n",
       "      <th>14279089</th>\n",
       "      <td>18</td>\n",
       "      <td>1</td>\n",
       "    </tr>\n",
       "  </tbody>\n",
       "</table>\n",
       "<p>14279090 rows × 2 columns</p>\n",
       "</div>"
      ],
      "text/plain": [
       "         CRSDepTime  Delayed\n",
       "0                 7        0\n",
       "1                10        0\n",
       "2                19        0\n",
       "3                17        0\n",
       "4                 8        0\n",
       "...             ...      ...\n",
       "14279085         16        0\n",
       "14279086         18        0\n",
       "14279087         10        0\n",
       "14279088         13        1\n",
       "14279089         18        1\n",
       "\n",
       "[14279090 rows x 2 columns]"
      ]
     },
     "execution_count": 8,
     "metadata": {},
     "output_type": "execute_result"
    }
   ],
   "source": [
    "#Converting departure times to string format keeping only hours (removing minutes) to check for best hour of day\n",
    "\n",
    "daily = Q1[['CRSDepTime','Delayed']]\n",
    "\n",
    "Hours = Q1.CRSDepTime.astype(str).str[:-2]\n",
    "\n",
    "#Setting the empty entries in Hours to 00 (12am)\n",
    "Hours[Hours == \"\"]= '0'\n",
    "\n",
    "daily['CRSDepTime']= Hours\n",
    "\n",
    "daily"
   ]
  },
  {
   "cell_type": "code",
   "execution_count": 9,
   "id": "205b52a0",
   "metadata": {},
   "outputs": [],
   "source": [
    "# Getting percentage of journeys that were delayed in each hour in a day\n",
    "\n",
    "sums2 = daily.groupby(['CRSDepTime']).sum().reset_index()\n",
    "count2 = daily.groupby(['CRSDepTime']).count().reset_index()\n",
    "\n",
    "sums2['Delayed'] = (sums2['Delayed']/count2['Delayed'])*100\n",
    "daily = sums2"
   ]
  },
  {
   "cell_type": "code",
   "execution_count": 10,
   "id": "ade7375a",
   "metadata": {},
   "outputs": [],
   "source": [
    "daily = daily.reindex([0,1,12,17,18,19,20,21,22,23,2,3,4,5,6,7,8,9,10,11,13,14,15,16]).reset_index(drop=True) #reordering hours index\n",
    "daily = daily.rename(columns ={'CRSDepTime':'Hour of Day'})"
   ]
  },
  {
   "cell_type": "code",
   "execution_count": 11,
   "id": "5d49795c",
   "metadata": {},
   "outputs": [],
   "source": [
    "daily = daily.set_index(['Hour of Day']) #resetting index"
   ]
  },
  {
   "cell_type": "code",
   "execution_count": 12,
   "id": "8a777d86",
   "metadata": {},
   "outputs": [
    {
     "data": {
      "text/html": [
       "<div>\n",
       "<style scoped>\n",
       "    .dataframe tbody tr th:only-of-type {\n",
       "        vertical-align: middle;\n",
       "    }\n",
       "\n",
       "    .dataframe tbody tr th {\n",
       "        vertical-align: top;\n",
       "    }\n",
       "\n",
       "    .dataframe thead th {\n",
       "        text-align: right;\n",
       "    }\n",
       "</style>\n",
       "<table border=\"1\" class=\"dataframe\">\n",
       "  <thead>\n",
       "    <tr style=\"text-align: right;\">\n",
       "      <th></th>\n",
       "      <th>DayOfWeek</th>\n",
       "      <th>Delayed</th>\n",
       "    </tr>\n",
       "  </thead>\n",
       "  <tbody>\n",
       "    <tr>\n",
       "      <th>0</th>\n",
       "      <td>Wednesday</td>\n",
       "      <td>0</td>\n",
       "    </tr>\n",
       "    <tr>\n",
       "      <th>1</th>\n",
       "      <td>Wednesday</td>\n",
       "      <td>0</td>\n",
       "    </tr>\n",
       "    <tr>\n",
       "      <th>2</th>\n",
       "      <td>Wednesday</td>\n",
       "      <td>0</td>\n",
       "    </tr>\n",
       "    <tr>\n",
       "      <th>3</th>\n",
       "      <td>Wednesday</td>\n",
       "      <td>0</td>\n",
       "    </tr>\n",
       "    <tr>\n",
       "      <th>4</th>\n",
       "      <td>Wednesday</td>\n",
       "      <td>0</td>\n",
       "    </tr>\n",
       "    <tr>\n",
       "      <th>...</th>\n",
       "      <td>...</td>\n",
       "      <td>...</td>\n",
       "    </tr>\n",
       "    <tr>\n",
       "      <th>14279085</th>\n",
       "      <td>Saturday</td>\n",
       "      <td>0</td>\n",
       "    </tr>\n",
       "    <tr>\n",
       "      <th>14279086</th>\n",
       "      <td>Saturday</td>\n",
       "      <td>0</td>\n",
       "    </tr>\n",
       "    <tr>\n",
       "      <th>14279087</th>\n",
       "      <td>Saturday</td>\n",
       "      <td>0</td>\n",
       "    </tr>\n",
       "    <tr>\n",
       "      <th>14279088</th>\n",
       "      <td>Saturday</td>\n",
       "      <td>1</td>\n",
       "    </tr>\n",
       "    <tr>\n",
       "      <th>14279089</th>\n",
       "      <td>Saturday</td>\n",
       "      <td>1</td>\n",
       "    </tr>\n",
       "  </tbody>\n",
       "</table>\n",
       "<p>14279090 rows × 2 columns</p>\n",
       "</div>"
      ],
      "text/plain": [
       "          DayOfWeek  Delayed\n",
       "0         Wednesday        0\n",
       "1         Wednesday        0\n",
       "2         Wednesday        0\n",
       "3         Wednesday        0\n",
       "4         Wednesday        0\n",
       "...             ...      ...\n",
       "14279085   Saturday        0\n",
       "14279086   Saturday        0\n",
       "14279087   Saturday        0\n",
       "14279088   Saturday        1\n",
       "14279089   Saturday        1\n",
       "\n",
       "[14279090 rows x 2 columns]"
      ]
     },
     "execution_count": 12,
     "metadata": {},
     "output_type": "execute_result"
    }
   ],
   "source": [
    "#Renaming numbers into their corresponding weekdays\n",
    "\n",
    "weekly = Q1[['DayOfWeek','Delayed']]\n",
    "\n",
    "def fix_day(day):\n",
    "    if day == 1 :\n",
    "        day = \"Monday\"\n",
    "    elif day == 2 :\n",
    "        day = \"Tuesday\"\n",
    "    elif day == 3 :\n",
    "        day = \"Wednesday\"\n",
    "    elif day == 4 :\n",
    "        day = \"Thursday\"\n",
    "    elif day == 5 :\n",
    "        day = \"Friday\"\n",
    "    elif day == 6 :\n",
    "        day = \"Saturday\"\n",
    "    elif day == 7 :\n",
    "        day = \"Sunday\"\n",
    "    else:\n",
    "        day = day\n",
    "    return day\n",
    "\n",
    "weekly['DayOfWeek'] = weekly.apply(lambda x: fix_day(x['DayOfWeek']), axis=1)\n",
    "weekly\n"
   ]
  },
  {
   "cell_type": "code",
   "execution_count": 13,
   "id": "728213aa",
   "metadata": {},
   "outputs": [
    {
     "data": {
      "text/html": [
       "<div>\n",
       "<style scoped>\n",
       "    .dataframe tbody tr th:only-of-type {\n",
       "        vertical-align: middle;\n",
       "    }\n",
       "\n",
       "    .dataframe tbody tr th {\n",
       "        vertical-align: top;\n",
       "    }\n",
       "\n",
       "    .dataframe thead th {\n",
       "        text-align: right;\n",
       "    }\n",
       "</style>\n",
       "<table border=\"1\" class=\"dataframe\">\n",
       "  <thead>\n",
       "    <tr style=\"text-align: right;\">\n",
       "      <th></th>\n",
       "      <th>DayOfWeek</th>\n",
       "      <th>Delayed</th>\n",
       "    </tr>\n",
       "  </thead>\n",
       "  <tbody>\n",
       "    <tr>\n",
       "      <th>0</th>\n",
       "      <td>Sunday</td>\n",
       "      <td>20.474279</td>\n",
       "    </tr>\n",
       "    <tr>\n",
       "      <th>1</th>\n",
       "      <td>Monday</td>\n",
       "      <td>20.394067</td>\n",
       "    </tr>\n",
       "    <tr>\n",
       "      <th>2</th>\n",
       "      <td>Tuesday</td>\n",
       "      <td>17.249109</td>\n",
       "    </tr>\n",
       "    <tr>\n",
       "      <th>3</th>\n",
       "      <td>Wednesday</td>\n",
       "      <td>18.662189</td>\n",
       "    </tr>\n",
       "    <tr>\n",
       "      <th>4</th>\n",
       "      <td>Thursday</td>\n",
       "      <td>21.674178</td>\n",
       "    </tr>\n",
       "    <tr>\n",
       "      <th>5</th>\n",
       "      <td>Friday</td>\n",
       "      <td>23.307535</td>\n",
       "    </tr>\n",
       "    <tr>\n",
       "      <th>6</th>\n",
       "      <td>Saturday</td>\n",
       "      <td>17.563735</td>\n",
       "    </tr>\n",
       "  </tbody>\n",
       "</table>\n",
       "</div>"
      ],
      "text/plain": [
       "   DayOfWeek    Delayed\n",
       "0     Sunday  20.474279\n",
       "1     Monday  20.394067\n",
       "2    Tuesday  17.249109\n",
       "3  Wednesday  18.662189\n",
       "4   Thursday  21.674178\n",
       "5     Friday  23.307535\n",
       "6   Saturday  17.563735"
      ]
     },
     "execution_count": 13,
     "metadata": {},
     "output_type": "execute_result"
    }
   ],
   "source": [
    "# Getting percentage of delays/day\n",
    "\n",
    "sums3 = weekly.groupby(['DayOfWeek']).sum().reset_index()\n",
    "count3 = weekly.groupby(['DayOfWeek']).count().reset_index()\n",
    "\n",
    "sums3['Delayed'] = (sums3['Delayed']/count3['Delayed'])*100\n",
    "weekly = sums3\n",
    "\n",
    "weekly = weekly.reindex([3,1,5,6,4,0,2]).reset_index(drop=True)\n",
    "weekly"
   ]
  },
  {
   "cell_type": "markdown",
   "id": "e4a4633e",
   "metadata": {},
   "source": [
    "### Visualizing"
   ]
  },
  {
   "cell_type": "code",
   "execution_count": 14,
   "id": "f6d9ec05",
   "metadata": {},
   "outputs": [
    {
     "data": {
      "text/plain": [
       "Text(0.5, 1.0, 'Pattern of DepDelays in a Week \\n')"
      ]
     },
     "execution_count": 14,
     "metadata": {},
     "output_type": "execute_result"
    },
    {
     "data": {
      "image/png": "[encoded data removed]",
      "text/plain": [
       "<Figure size 1440x576 with 2 Axes>"
      ]
     },
     "metadata": {
      "needs_background": "light"
     },
     "output_type": "display_data"
    }
   ],
   "source": [
    "fig, ax=plt.subplots(1,2, figsize=(20,8))\n",
    "\n",
    "#Left Plot\n",
    "\n",
    "ax[0].plot([0,1,2,3,4,5,6,7,8,9,10,11,12,13,14,15,16,17,18,19,20,21,22,23],\n",
    "       daily['Delayed'],\n",
    "       color = '#ff6361',\n",
    "       linewidth=2)\n",
    "\n",
    "ax[0].set_ylabel('Percentage of departure delays per hour',\n",
    "                 color='#404040',\n",
    "                 size = 13,\n",
    "                 labelpad=10)\n",
    "ax[0].set_xlabel('\\n Hour of Schdeuled Departure',\n",
    "                 color='#404040',\n",
    "                 size = 13,\n",
    "                 labelpad=7)\n",
    "ax[0].set_title(\"Pattern of DepDelays in a Day \\n\",\n",
    "                color='#404040',\n",
    "                size = 18,\n",
    "                weight = 'bold')\n",
    "ax[0].set_xticks([0,1,2,3,4,5,6,7,8,9,10,11,12,13,14,15,16,17,18,19,20,21,22,23])\n",
    "\n",
    "#Right Plot\n",
    "\n",
    "ax[1].plot(['Sun', 'Mon','Tue','Wed', 'Thu', 'Fri', 'Sat'],\n",
    "       weekly['Delayed'],\n",
    "       color = '#bc5090',\n",
    "       linewidth=2)\n",
    "\n",
    "ax[1].set_xlabel('\\n Day of the Week',\n",
    "                 color='#404040',\n",
    "                 size = 13,\n",
    "                 labelpad=7)\n",
    "\n",
    "ax[1].set_ylabel('Percentage of departure delays per day',\n",
    "                 color='#404040',\n",
    "                 size = 13,\n",
    "                 labelpad=10)\n",
    "\n",
    "ax[1].set_title(\"Pattern of DepDelays in a Week \\n\",\n",
    "                color='#404040',\n",
    "                size = 18,\n",
    "                weight = 'bold')\n",
    "\n",
    "plt.savefig('Daily and Weekly delays.png')"
   ]
  }
 ],
 "metadata": {
  "kernelspec": {
   "display_name": "Python 3 (ipykernel)",
   "language": "python",
   "name": "python3"
  },
  "language_info": {
   "codemirror_mode": {
    "name": "ipython",
    "version": 3
   },
   "file_extension": ".py",
   "mimetype": "text/x-python",
   "name": "python",
   "nbconvert_exporter": "python",
   "pygments_lexer": "ipython3",
   "version": "3.8.8"
  }
 },
 "nbformat": 4,
 "nbformat_minor": 5
}
